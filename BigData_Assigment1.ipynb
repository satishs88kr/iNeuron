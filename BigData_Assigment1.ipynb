{
 "cells": [
  {
   "cell_type": "code",
   "execution_count": null,
   "id": "f72bea33",
   "metadata": {},
   "outputs": [],
   "source": [
    "#Write a Python program to check if a given string is an anagram."
   ]
  },
  {
   "cell_type": "code",
   "execution_count": null,
   "id": "4e16a345",
   "metadata": {},
   "outputs": [],
   "source": [
    "s1=input()\n",
    "s2=s1[::-1]\n",
    "if(sorted(s1)==sorted(s2)):\n",
    "      print(\"yes\")\n",
    "else:\n",
    "      print(\"no\")"
   ]
  },
  {
   "cell_type": "code",
   "execution_count": null,
   "id": "2e1e45b2",
   "metadata": {},
   "outputs": [],
   "source": [
    "#Write a Python program to find the maximum and minimum values in a dictionary."
   ]
  },
  {
   "cell_type": "code",
   "execution_count": null,
   "id": "2032688a",
   "metadata": {},
   "outputs": [],
   "source": [
    "dicti = {'a':500, 'b':5874, 'c': 560}\n",
    "\n",
    "maxdict = max(dicti.keys(), key=(lambda k: dicti[k]))\n",
    "mindict = min(dicti.keys(), key=(lambda k: dicti[k]))\n",
    "\n",
    "print('Maximum Value: ',dicti[maxdict])\n",
    "print('Minimum Value: ',dicti[mindict])"
   ]
  },
  {
   "cell_type": "code",
   "execution_count": null,
   "id": "abb1ef91",
   "metadata": {},
   "outputs": [],
   "source": [
    "#Write a Python program to find the average of a list of numbers."
   ]
  },
  {
   "cell_type": "code",
   "execution_count": null,
   "id": "825dbd2b",
   "metadata": {},
   "outputs": [],
   "source": [
    "a=[1,2,3,4,5,6]\n",
    "print(sum(a)//len(a))"
   ]
  },
  {
   "cell_type": "code",
   "execution_count": null,
   "id": "98cd9400",
   "metadata": {},
   "outputs": [],
   "source": [
    "#Write a Python program to remove all vowels from a string."
   ]
  },
  {
   "cell_type": "code",
   "execution_count": null,
   "id": "b98f5853",
   "metadata": {},
   "outputs": [],
   "source": [
    "a=input()\n",
    "vow=[\"a\",\"e\",\"i\",\"o\",\"u\",\"A\",\"E\",\"I\",\"O\",\"U\"]\n",
    "for i in vow:\n",
    "    if(i in a):\n",
    "        a=a.replace(i,\"\")\n",
    "print(a)"
   ]
  },
  {
   "cell_type": "code",
   "execution_count": null,
   "id": "6cd573c4",
   "metadata": {},
   "outputs": [],
   "source": [
    "#Write a Python function to calculate the factorial of a number using recursion."
   ]
  },
  {
   "cell_type": "code",
   "execution_count": null,
   "id": "a00c22b5",
   "metadata": {},
   "outputs": [],
   "source": [
    "def factorial(n):\n",
    "    if n == 0 or n == 1:\n",
    "        return 1\n",
    "    else:\n",
    "        return n * factorial(n - 1)\n",
    "a=int(input())\n",
    "print(factorial(a))"
   ]
  },
  {
   "cell_type": "code",
   "execution_count": null,
   "id": "151c5796",
   "metadata": {},
   "outputs": [],
   "source": [
    "#Write a Python program to merge two unsorted lists into a single sorted list using the merge sort algorithm.\n"
   ]
  },
  {
   "cell_type": "code",
   "execution_count": null,
   "id": "d18dc2a8",
   "metadata": {},
   "outputs": [],
   "source": [
    "def merge_sort(arr):\n",
    "    if len(arr) <= 1:\n",
    "        return arr\n",
    "    mid = len(arr) // 2\n",
    "    left_half = arr[:mid]\n",
    "    right_half = arr[mid:]\n",
    "    left_half = merge_sort(left_half)\n",
    "    right_half = merge_sort(right_half)\n",
    "    return merge(left_half, right_half)\n",
    "\n",
    "def merge(left, right):\n",
    "    result = []\n",
    "    i = j = 0\n",
    "    \n",
    "    while i < len(left) and j < len(right):\n",
    "        if left[i] <= right[j]:\n",
    "            result.append(left[i])\n",
    "            i += 1\n",
    "        else:\n",
    "            result.append(right[j])\n",
    "            j += 1\n",
    "    while i < len(left):\n",
    "        result.append(left[i])\n",
    "        i += 1\n",
    "    \n",
    "    while j < len(right):\n",
    "        result.append(right[j])\n",
    "        j += 1\n",
    "    \n",
    "    return result\n",
    "\n",
    "list1 = list(map(int,input().split()))\n",
    "list2=list(map(int,input().split()))\n",
    "\n",
    "merged_list = merge_sort(list1 + list2)\n",
    "print(merged_list)"
   ]
  },
  {
   "cell_type": "code",
   "execution_count": null,
   "id": "c265654c",
   "metadata": {},
   "outputs": [],
   "source": [
    "#Write a Python program to find the GCD (Greatest Common Divisor) of two\n"
   ]
  },
  {
   "cell_type": "code",
   "execution_count": null,
   "id": "8a21ac53",
   "metadata": {},
   "outputs": [],
   "source": [
    "def gcd(a, b):\n",
    "    while b != 0:\n",
    "        a, b = b, a % b\n",
    "    return a\n",
    "\n",
    "x=int(input())\n",
    "y=int(input())\n",
    "result = gcd(x, y)\n",
    "print(result)"
   ]
  },
  {
   "cell_type": "code",
   "execution_count": null,
   "id": "b82a8371",
   "metadata": {},
   "outputs": [],
   "source": [
    "#Write a Python program to find the second-largest element in a list."
   ]
  },
  {
   "cell_type": "code",
   "execution_count": null,
   "id": "06284eb9",
   "metadata": {},
   "outputs": [],
   "source": [
    "l=list(map(int,input().split()))\n",
    "l.sort()\n",
    "print(l[-2])"
   ]
  },
  {
   "cell_type": "code",
   "execution_count": null,
   "id": "ff8094c9",
   "metadata": {},
   "outputs": [],
   "source": [
    "#Write a Python program to find the longest common subsequence between two strings using dynamic programming."
   ]
  },
  {
   "cell_type": "code",
   "execution_count": 2,
   "id": "aba2fc38",
   "metadata": {},
   "outputs": [
    {
     "name": "stdout",
     "output_type": "stream",
     "text": [
      "asdtfh\n",
      "esrty\n",
      "st\n"
     ]
    }
   ],
   "source": [
    "def lon_com_sub(str1, str2):\n",
    "    m = len(str1)\n",
    "    n = len(str2)\n",
    "    table = [[0] * (n + 1) for _ in range(m + 1)]\n",
    "    for i in range(1, m + 1):\n",
    "        for j in range(1, n + 1):\n",
    "            if str1[i - 1] == str2[j - 1]:\n",
    "                table[i][j] = table[i - 1][j - 1] + 1\n",
    "            else:\n",
    "                table[i][j] = max(table[i - 1][j], table[i][j - 1])\n",
    "    lcs = \"\"\n",
    "    i = m\n",
    "    j = n\n",
    "\n",
    "    while i > 0 and j > 0:\n",
    "        if str1[i - 1] == str2[j - 1]:\n",
    "            lcs = str1[i - 1] + lcs\n",
    "            i -= 1\n",
    "            j -= 1\n",
    "        elif table[i - 1][j] > table[i][j - 1]:\n",
    "            i -= 1\n",
    "        else:\n",
    "            j -= 1\n",
    "\n",
    "    return lcs\n",
    "s1=input()\n",
    "s2=input()\n",
    "\n",
    "result = lon_com_sub(s1, s2)\n",
    "print(result)"
   ]
  },
  {
   "cell_type": "code",
   "execution_count": null,
   "id": "c5fc0c1c",
   "metadata": {},
   "outputs": [],
   "source": []
  },
  {
   "cell_type": "code",
   "execution_count": null,
   "id": "da378efa",
   "metadata": {},
   "outputs": [],
   "source": []
  }
 ],
 "metadata": {
  "kernelspec": {
   "display_name": "Python 3 (ipykernel)",
   "language": "python",
   "name": "python3"
  },
  "language_info": {
   "codemirror_mode": {
    "name": "ipython",
    "version": 3
   },
   "file_extension": ".py",
   "mimetype": "text/x-python",
   "name": "python",
   "nbconvert_exporter": "python",
   "pygments_lexer": "ipython3",
   "version": "3.9.7"
  }
 },
 "nbformat": 4,
 "nbformat_minor": 5
}
