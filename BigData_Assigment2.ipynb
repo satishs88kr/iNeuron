{
 "cells": [
  {
   "cell_type": "code",
   "execution_count": null,
   "id": "8057ff93",
   "metadata": {},
   "outputs": [],
   "source": [
    "#Write an SQL query to retrieve the names and email addresses of all employees from a table named \"Employees\"."
   ]
  },
  {
   "cell_type": "code",
   "execution_count": null,
   "id": "fd3b4b14",
   "metadata": {},
   "outputs": [],
   "source": [
    "SELECT name, email FROM Employees"
   ]
  },
  {
   "cell_type": "code",
   "execution_count": null,
   "id": "7abee9d9",
   "metadata": {},
   "outputs": [],
   "source": [
    "#Write an SQL query to filter records from a table named \"Customers\" where the \"City\" column is 'New York'."
   ]
  },
  {
   "cell_type": "code",
   "execution_count": null,
   "id": "4858e2ce",
   "metadata": {},
   "outputs": [],
   "source": [
    "SELECT * FROM Customers WHERE City = 'New York'"
   ]
  },
  {
   "cell_type": "code",
   "execution_count": null,
   "id": "af0b5e94",
   "metadata": {},
   "outputs": [],
   "source": [
    "#Write an SQL query to sort records in descending order based on the \"DateOfBirth\" column in a table named \"Users\"."
   ]
  },
  {
   "cell_type": "code",
   "execution_count": null,
   "id": "f052a4e4",
   "metadata": {},
   "outputs": [],
   "source": [
    "SELECT * FROM Users ORDER BY DateOfBirth DESC;"
   ]
  },
  {
   "cell_type": "code",
   "execution_count": null,
   "id": "43eb128c",
   "metadata": {},
   "outputs": [],
   "source": [
    "#Write an SQL query to sort records in ascending order based on the \"RegistrationDate\" column in a table named \"Users\"."
   ]
  },
  {
   "cell_type": "code",
   "execution_count": null,
   "id": "a3ef89ba",
   "metadata": {},
   "outputs": [],
   "source": [
    "SELECT * FROM Users ORDER BY RegistrationDate ASC"
   ]
  },
  {
   "cell_type": "code",
   "execution_count": null,
   "id": "cf7754bd",
   "metadata": {},
   "outputs": [],
   "source": [
    "#Write an SQL query to find the employee with the highest salary from a table named \"Employees\" and display their name, position, and salary."
   ]
  },
  {
   "cell_type": "code",
   "execution_count": null,
   "id": "7bc23c97",
   "metadata": {},
   "outputs": [],
   "source": [
    "SELECT name, position, salary FROM Employees WHERE salary = (SELECT MAX(salary) FROM Employees)"
   ]
  },
  {
   "cell_type": "code",
   "execution_count": null,
   "id": "c564b3e8",
   "metadata": {},
   "outputs": [],
   "source": [
    "#Write an SQL query to retrieve records from a table named \"Customers\" where the \"Phone\" column matches the pattern '+1-XXX-XXX-XXXX'."
   ]
  },
  {
   "cell_type": "code",
   "execution_count": null,
   "id": "3bee5698",
   "metadata": {},
   "outputs": [],
   "source": [
    "SELECT * FROM Customers WHERE Phone LIKE '+1-___-___-____'"
   ]
  },
  {
   "cell_type": "code",
   "execution_count": null,
   "id": "7bee3798",
   "metadata": {},
   "outputs": [],
   "source": [
    "#Write an SQL query to retrieve the top 5 customers with the highest total purchase amount from a table named \"Orders\" and display their names and total purchase amounts."
   ]
  },
  {
   "cell_type": "code",
   "execution_count": null,
   "id": "4621b2b8",
   "metadata": {},
   "outputs": [],
   "source": [
    "SELECT Customers.name, SUM(Orders.purchase_amount) AS total_purchase_amount FROM Orders JOIN Customers ON Orders.customer_id = Customers.id GROUP BY Customers.name ORDER BY total_purchase_amount DESC LIMIT 5"
   ]
  },
  {
   "cell_type": "code",
   "execution_count": null,
   "id": "2b97e743",
   "metadata": {},
   "outputs": [],
   "source": [
    "#Write an SQL query to calculate the percentage of sales for each product category in a table named \"Sales\" and display the category name, total sales amount, and the percentage of total sales."
   ]
  },
  {
   "cell_type": "code",
   "execution_count": null,
   "id": "d90b8adf",
   "metadata": {},
   "outputs": [],
   "source": [
    "SELECT category_name,SUM(sales_amount) AS total_sales_amount, (SUM(sales_amount) / (SELECT SUM(sales_amount) FROM Sales)) * 100 AS sales_percentage FROM Sales GROUP BY category_name"
   ]
  },
  {
   "cell_type": "code",
   "execution_count": null,
   "id": "24a572cb",
   "metadata": {},
   "outputs": [],
   "source": [
    "#Write an SQL query to find the customers who have made the highest total purchases across all years from a table named \"Orders\" and display their names, email addresses, and the total purchase amount."
   ]
  },
  {
   "cell_type": "code",
   "execution_count": null,
   "id": "276abda9",
   "metadata": {},
   "outputs": [],
   "source": [
    "SELECT Customers.name,Customers.email,SUM(Orders.purchase_amount) AS total_purchase_amount FROM Orders JOIN Customers ON Orders.customer_id = Customers.id GROUP BY Customers.name, Customers.email HAVING SUM(Orders.purchase_amount) = (SELECT MAX(total_purchase) FROM (SELECT SUM(purchase_amount) AS total_purchase FROM Orders GROUP BY customer_id) AS temp)"
   ]
  }
 ],
 "metadata": {
  "kernelspec": {
   "display_name": "Python 3 (ipykernel)",
   "language": "python",
   "name": "python3"
  },
  "language_info": {
   "codemirror_mode": {
    "name": "ipython",
    "version": 3
   },
   "file_extension": ".py",
   "mimetype": "text/x-python",
   "name": "python",
   "nbconvert_exporter": "python",
   "pygments_lexer": "ipython3",
   "version": "3.9.7"
  }
 },
 "nbformat": 4,
 "nbformat_minor": 5
}
