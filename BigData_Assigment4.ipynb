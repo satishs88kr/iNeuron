{
 "cells": [
  {
   "cell_type": "code",
   "execution_count": null,
   "id": "372717a5",
   "metadata": {},
   "outputs": [],
   "source": [
    "#Write a Python program that uses the HiveQL language to create a table named \"Employees\" with columns for \"id,\" \"name,\" and \"salary.\""
   ]
  },
  {
   "cell_type": "code",
   "execution_count": null,
   "id": "1b93a467",
   "metadata": {},
   "outputs": [],
   "source": [
    "CREATE TABLE Employees (\n",
    "    id INT,\n",
    "    name STRING,\n",
    "    salary FLOAT\n",
    ")"
   ]
  },
  {
   "cell_type": "code",
   "execution_count": null,
   "id": "fcae90e2",
   "metadata": {},
   "outputs": [],
   "source": [
    "#Create a Python program that retrieves records from a Hive table named \"Customers\" where the age is greater than 30."
   ]
  },
  {
   "cell_type": "code",
   "execution_count": null,
   "id": "c55a741f",
   "metadata": {},
   "outputs": [],
   "source": [
    "SELECT * FROM Customers WHERE age > 30"
   ]
  },
  {
   "cell_type": "code",
   "execution_count": null,
   "id": "27e29c14",
   "metadata": {},
   "outputs": [],
   "source": [
    "#Write a Python script that sorts records in descending order based on the \"timestamp\" column in a Hive table named \"Logs.\""
   ]
  },
  {
   "cell_type": "code",
   "execution_count": null,
   "id": "dcb021f9",
   "metadata": {},
   "outputs": [],
   "source": [
    "SELECT * FROM Logs ORDER BY timestamp DESC"
   ]
  },
  {
   "cell_type": "code",
   "execution_count": null,
   "id": "c084f55c",
   "metadata": {},
   "outputs": [],
   "source": [
    "#Write a Python program that connects to a Hive server using PyHive library and retrieves all records from a table named \"Products\"."
   ]
  },
  {
   "cell_type": "code",
   "execution_count": null,
   "id": "aaaa969c",
   "metadata": {},
   "outputs": [],
   "source": [
    "from pyhive import hive\n",
    "\n",
    "conn = hive.Connection(host='localhost', port=10000, username='satish_db')\n",
    "query = \"SELECT * FROM Products\"\n",
    "with conn.cursor() as cursor:\n",
    "    cursor.execute(query)\n",
    "    results = cursor.fetchall()\n",
    "\n",
    "for i in results:\n",
    "    print(i)\n",
    "\n",
    "conn.close()\n"
   ]
  },
  {
   "cell_type": "code",
   "execution_count": null,
   "id": "045c20a5",
   "metadata": {},
   "outputs": [],
   "source": [
    "#Write a Python script that calculates the average salary of employees from a Hive table named \"Employees\".\n"
   ]
  },
  {
   "cell_type": "code",
   "execution_count": null,
   "id": "6d57d1f5",
   "metadata": {},
   "outputs": [],
   "source": [
    "from pyhive import hive\n",
    "\n",
    "conn = hive.Connection(host='localhost', port=10000, username='satish_db')\n",
    "query = \"SELECT AVG(salary) FROM Employees\"\n",
    "\n",
    "with conn.cursor() as cursor:\n",
    "    cursor.execute(query)\n",
    "    result = cursor.fetchone()\n",
    "\n",
    "avg_sal = result[0]\n",
    "print(avg_sal)\n",
    "\n",
    "conn.close()"
   ]
  },
  {
   "cell_type": "code",
   "execution_count": null,
   "id": "56a77043",
   "metadata": {},
   "outputs": [],
   "source": [
    "#Implement a Python program that uses Hive partitioning to create a partitioned table named \"Sales_Data\" based on the \"year\" and \"month\" columns."
   ]
  },
  {
   "cell_type": "code",
   "execution_count": null,
   "id": "60578e16",
   "metadata": {},
   "outputs": [],
   "source": [
    "from pyhive import hive\n",
    "\n",
    "con = hive.Connection(host='localhost', port=10000, username='satish_db')\n",
    "\n",
    "create_table_query = \"\"\"\n",
    "CREATE TABLE Sales_Data (\n",
    "    id INT\n",
    "    year INT,\n",
    "    month INT\n",
    ")\n",
    "PARTITIONED BY (year INT, month INT)\n",
    "\"\"\"\n",
    "with con.cursor() as cursor:\n",
    "    cursor.execute(create_table_query)\n",
    "\n",
    "add_partition_query = \"\"\"\n",
    "ALTER TABLE Sales_Data ADD PARTITION (year=2022, month=1)\n",
    "\"\"\"\n",
    "with con.cursor() as cursor:\n",
    "    cursor.execute(add_partition_query)\n",
    "con.close()"
   ]
  },
  {
   "cell_type": "code",
   "execution_count": null,
   "id": "75cefd52",
   "metadata": {},
   "outputs": [],
   "source": [
    "#Develop a Python script that adds a new column named \"email\" of type string to an existing Hive table named \"Employees.\""
   ]
  },
  {
   "cell_type": "code",
   "execution_count": null,
   "id": "ddb6407d",
   "metadata": {},
   "outputs": [],
   "source": [
    "from pyhive import hive\n",
    "\n",
    "con = hive.Connection(host='localhost', port=10000, username='satish_db')\n",
    "\n",
    "query = \"ALTER TABLE Employees ADD COLUMNS (email STRING)\"\n",
    "\n",
    "with con.cursor() as cursor:\n",
    "    cursor.execute(query)\n",
    "\n",
    "con.close()"
   ]
  },
  {
   "cell_type": "code",
   "execution_count": null,
   "id": "fdd405bb",
   "metadata": {},
   "outputs": [],
   "source": [
    "#Create a Python program that performs an inner join between two Hive tables, \"Orders\" and \"Customers,\" based on a common column"
   ]
  },
  {
   "cell_type": "code",
   "execution_count": null,
   "id": "12d0f7c9",
   "metadata": {},
   "outputs": [],
   "source": [
    "from pyhive import hive\n",
    "\n",
    "con = hive.Connection(host='localhost', port=10000, username='satish_db')\n",
    "\n",
    "query = \"\"\"\n",
    "SELECT *\n",
    "FROM Orders\n",
    "INNER JOIN Customers\n",
    "ON Orders.customer_id = Customers.id\n",
    "\"\"\"\n",
    "with con.cursor() as cursor:\n",
    "    cursor.execute(query)\n",
    "    results = cursor.fetchall()\n",
    "\n",
    "for i in results:\n",
    "    print(i)\n",
    "\n",
    "con.close()"
   ]
  }
 ],
 "metadata": {
  "kernelspec": {
   "display_name": "Python 3 (ipykernel)",
   "language": "python",
   "name": "python3"
  },
  "language_info": {
   "codemirror_mode": {
    "name": "ipython",
    "version": 3
   },
   "file_extension": ".py",
   "mimetype": "text/x-python",
   "name": "python",
   "nbconvert_exporter": "python",
   "pygments_lexer": "ipython3",
   "version": "3.9.7"
  }
 },
 "nbformat": 4,
 "nbformat_minor": 5
}
